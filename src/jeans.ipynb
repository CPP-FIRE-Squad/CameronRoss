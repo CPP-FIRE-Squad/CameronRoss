{
 "cells": [
  {
   "cell_type": "markdown",
   "metadata": {},
   "source": [
    "# Jeans Equation Stuff"
   ]
  },
  {
   "cell_type": "markdown",
   "metadata": {},
   "source": [
    "<img src=\"../images/jeans_eq.png\" alt=\"jeans equation\" style=\"height: 50px;\">\n",
    "<img src=\"../images/jeans_key.png\" alt=\"jeans equation\" style=\"height: 200px;\">"
   ]
  },
  {
   "cell_type": "code",
   "execution_count": 14,
   "metadata": {},
   "outputs": [],
   "source": [
    "from stellarutil import Simulation\n",
    "from IPython.display import clear_output\n",
    "import numpy as np\n",
    "\n",
    "sim = Simulation(simulation_name=\"m10v_res250md\", species=['star', 'dark', 'gas'])\n",
    "clear_output()\n",
    "halo = sim.get_halo()"
   ]
  },
  {
   "cell_type": "markdown",
   "metadata": {},
   "source": [
    "# The Predicted Mass - 3 x G^(-1) x <σ^2> x r_half"
   ]
  },
  {
   "cell_type": "code",
   "execution_count": 19,
   "metadata": {},
   "outputs": [
    {
     "name": "stdout",
     "output_type": "stream",
     "text": [
      "Total Star Mass: 154166.9375\n",
      "r_half: 4.783366634644828 at star 391 with mass 77164.56632232666\n",
      "\n",
      "Predicted Total Mass: 1.17e+08 M☉\n"
     ]
    }
   ],
   "source": [
    "# Find r_half (radius where half of the all star mass is)...\n",
    "\n",
    "# Sort stars by 3D radius, stars closer to the center first\n",
    "sorted_stars = sorted(halo.stars, key=lambda star: star.get_3DR())\n",
    "# Get the total mass of all stars\n",
    "TOTAL_STAR_MASS = np.sum([star.m for star in sorted_stars])\n",
    "print(f\"Total Star Mass: {TOTAL_STAR_MASS}\")\n",
    "# Go through stars until half of the mass is enclosed\n",
    "enclosed_mass, star_index = 0, 0\n",
    "while True:\n",
    "    enclosed_mass += sorted_stars[star_index].m\n",
    "    star_index += 1\n",
    "    if enclosed_mass >= TOTAL_STAR_MASS / 2: break\n",
    "\n",
    "# The radius of the star at star_index is the half mass radius\n",
    "r_half = sorted_stars[star_index].get_3DR()\n",
    "print(f\"r_half: {r_half} at star {star_index} with mass {enclosed_mass}\")\n",
    "\n",
    "included_stars = sorted_stars[:star_index]\n",
    "\n",
    "# Find <σ^2>...\n",
    "\n",
    "los_dispersion = np.std([star.vz for star in included_stars])\n",
    "luminosities = [star.m for star in included_stars]\n",
    "average = np.average([los_dispersion ** 2] * len(included_stars), weights=luminosities)\n",
    "\n",
    "# Plug and chug...\n",
    "\n",
    "G =  4.3 * 10**-6 \n",
    "prediction = 3 * pow(G, -1) * average * r_half\n",
    "print()\n",
    "print(f\"Predicted Total Mass: {prediction:.2e} M☉\")\n"
   ]
  },
  {
   "cell_type": "markdown",
   "metadata": {},
   "source": [
    "# The Actual Mass - M_(1/2)"
   ]
  },
  {
   "cell_type": "code",
   "execution_count": 20,
   "metadata": {},
   "outputs": [
    {
     "name": "stdout",
     "output_type": "stream",
     "text": [
      "Star Masses by Hand:\t\t7.72e+04 M☉\n",
      "DM Masses by Hand:\t\t4.44e+08 M☉\n",
      "Gas Masses by Hand:\t\t1.22e+07 M☉\n",
      "\n",
      "Actual Total Mass by Hand:\t4.57e+08 M☉\n"
     ]
    }
   ],
   "source": [
    "# Find M_half (actual mass of every star, dark matter, and gas particle within r_half)\n",
    "\n",
    "# Get the star masses using stellar util\n",
    "star_masses = enclosed_mass\n",
    "print(f\"Star Masses by Hand:\\t\\t{ np.sum(star_masses):.2e} M☉\")\n",
    "# Get the dm masses\n",
    "dark_x = sim.particles['dark']['position'][:,0] - halo.xc\n",
    "dark_y = sim.particles['dark']['position'][:,1] - halo.yc\n",
    "dark_z = sim.particles['dark']['position'][:,2] - halo.zc\n",
    "dark_m = sim.particles['dark']['mass']\n",
    "dark_distances = np.sqrt(np.square(dark_x) + np.square(dark_y) + np.square(dark_z))\n",
    "dark_masses = dark_m[dark_distances < r_half]\n",
    "print(f\"DM Masses by Hand:\\t\\t{ np.sum(dark_masses):.2e} M☉\")\n",
    "# Get the gas masses\n",
    "gas_x = sim.particles['gas']['position'][:,0] - halo.xc\n",
    "gas_y = sim.particles['gas']['position'][:,1] - halo.yc\n",
    "gas_z = sim.particles['gas']['position'][:,2] - halo.zc\n",
    "gas_m = sim.particles['gas']['mass']\n",
    "gas_distances = np.sqrt(np.square(gas_x) + np.square(gas_y) + np.square(gas_z))\n",
    "gas_masses = gas_m[gas_distances < r_half]\n",
    "print(f\"Gas Masses by Hand:\\t\\t{ np.sum(gas_masses):.2e} M☉\")\n",
    "\n",
    "actual_mass = np.sum(star_masses) + np.sum(dark_masses) + np.sum(gas_masses)\n",
    "print(f\"\\nActual Total Mass by Hand:\\t{actual_mass:.2e} M☉\")"
   ]
  }
 ],
 "metadata": {
  "kernelspec": {
   "display_name": "Python 3",
   "language": "python",
   "name": "python3"
  },
  "language_info": {
   "codemirror_mode": {
    "name": "ipython",
    "version": 3
   },
   "file_extension": ".py",
   "mimetype": "text/x-python",
   "name": "python",
   "nbconvert_exporter": "python",
   "pygments_lexer": "ipython3",
   "version": "3.12.2"
  }
 },
 "nbformat": 4,
 "nbformat_minor": 2
}
